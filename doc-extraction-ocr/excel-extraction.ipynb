{
 "cells": [
  {
   "cell_type": "code",
   "execution_count": null,
   "id": "2a5c304f",
   "metadata": {},
   "outputs": [
    {
     "name": "stdout",
     "output_type": "stream",
     "text": [
      "Full extracted text:\n",
      " Sheet1\n",
      "------Create your Python application------\n",
      "1) Create a new Python file called \"sample_analyze_read.py\" in an editor or IDE.\n",
      "The following prerequisites are necessary to run the code. For more details, please visit the \"How-to guides\" link: https://aka.ms/how-to-guide\n",
      "2) Open the \"sample_analyze_read.py\" file and insert the provided code sample into your application.\n",
      "3) At a command prompt, use the following command to run the Python file:\n",
      "-------Python and IDE------\n",
      "python sample_analyze_read.py\n",
      "1) Install Python 3.8 or later (https://www.python.org/), which should include pip (https://pip.pypa.io/en/stable/).\n",
      "\"\n",
      "2) Install the latest version of Visual Studio Code (https://code.visualstudio.com/) or your preferred IDE.\n",
      "------Azure AI services or Document Intelligence resource------\n",
      "Create a single-service (https://aka.ms/single-service) or multi-service (https://aka.ms/multi-service) resource.\n",
      "You can use the free pricing tier (F0) to try the service and upgrade to a paid tier for production later.\n",
      "------Get the key and endpoint------\n",
      "1) After your resource is deployed, select \"Go to resource\".\n",
      "2) In the left navigation menu, select \"Keys and Endpoint\".\n",
      "3) Copy one of the keys and the Endpoint for use in this sample.\n",
      "------Set your environment variables------\n",
      "At a command prompt, run the following commands, replacing <yourKey> and <yourEndpoint> with the values from your resource in the Azure portal.\n",
      "1) For Windows:\n",
      "setx DOCUMENTINTELLIGENCE_API_KEY <yourKey>\n"
     ]
    }
   ],
   "source": [
    "from azure.core.credentials import AzureKeyCredential\n",
    "from azure.ai.documentintelligence import DocumentIntelligenceClient\n",
    "from azure.ai.documentintelligence.models import AnalyzeDocumentRequest\n",
    "\n",
    "# Set up your Azure endpoint and API key\n",
    "endpoint = \"https://<your-resource-name>.cognitiveservices.azure.com/\"\n",
    "api_key = \"<your-api-key>\"\n",
    "\n",
    "# Create a client for the Document Intelligence service\n",
    "client = DocumentIntelligenceClient(endpoint, AzureKeyCredential(api_key))\n",
    "\n",
    "# Path to the input file (CSV or XLSX)\n",
    "file_path = \"test-doc-intl.xlsx\"  # change to .csv or .xlsx as needed\n",
    "\n",
    "# Read the file in binary mode and send to the Read API\n",
    "with open(file_path, \"rb\") as f:\n",
    "    poller = client.begin_analyze_document(\"prebuilt-read\", body=f)\n",
    "result = poller.result()\n",
    "\n",
    "# # Extract text content from the result\n",
    "# # Option 1: iterate over pages and lines\n",
    "# all_text = \"\"\n",
    "# for page in result.pages:\n",
    "#     if page.lines:                       # ← guard against None\n",
    "#         for line in page.lines:\n",
    "#             all_text += line.content + \"\\n\"\n",
    "# print(\"Extracted text:\\n\", all_text)\n",
    "\n",
    "# use the result.content property for all text (if supported by SDK version)\n",
    "full_text = result.content\n",
    "print(\"Full extracted text:\\n\", full_text)\n"
   ]
  }
 ],
 "metadata": {
  "kernelspec": {
   "display_name": ".venv",
   "language": "python",
   "name": "python3"
  },
  "language_info": {
   "codemirror_mode": {
    "name": "ipython",
    "version": 3
   },
   "file_extension": ".py",
   "mimetype": "text/x-python",
   "name": "python",
   "nbconvert_exporter": "python",
   "pygments_lexer": "ipython3",
   "version": "3.12.10"
  }
 },
 "nbformat": 4,
 "nbformat_minor": 5
}
